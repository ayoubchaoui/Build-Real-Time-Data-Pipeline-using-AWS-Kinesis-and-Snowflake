{
  "cells": [
    {
      "cell_type": "code",
      "execution_count": null,
      "metadata": {
        "colab": {
          "base_uri": "https://localhost:8080/"
        },
        "id": "07a_bTm-evZo",
        "outputId": "df019dbe-3bd6-4a8c-fe9b-9b914989888f"
      },
      "outputs": [
        {
          "name": "stdout",
          "output_type": "stream",
          "text": [
            "Requirement already satisfied: boto3 in /usr/local/lib/python3.10/dist-packages (1.34.86)\n",
            "Requirement already satisfied: botocore<1.35.0,>=1.34.86 in /usr/local/lib/python3.10/dist-packages (from boto3) (1.34.86)\n",
            "Requirement already satisfied: jmespath<2.0.0,>=0.7.1 in /usr/local/lib/python3.10/dist-packages (from boto3) (1.0.1)\n",
            "Requirement already satisfied: s3transfer<0.11.0,>=0.10.0 in /usr/local/lib/python3.10/dist-packages (from boto3) (0.10.1)\n",
            "Requirement already satisfied: python-dateutil<3.0.0,>=2.1 in /usr/local/lib/python3.10/dist-packages (from botocore<1.35.0,>=1.34.86->boto3) (2.8.2)\n",
            "Requirement already satisfied: urllib3!=2.2.0,<3,>=1.25.4 in /usr/local/lib/python3.10/dist-packages (from botocore<1.35.0,>=1.34.86->boto3) (2.0.7)\n",
            "Requirement already satisfied: six>=1.5 in /usr/local/lib/python3.10/dist-packages (from python-dateutil<3.0.0,>=2.1->botocore<1.35.0,>=1.34.86->boto3) (1.16.0)\n"
          ]
        }
      ],
      "source": [
        "!pip install boto3"
      ]
    },
    {
      "cell_type": "code",
      "execution_count": null,
      "metadata": {
        "id": "ANoxCS1AOqDr"
      },
      "outputs": [],
      "source": [
        "kinesis_client = boto3.client('kinesis', region_name='us-east-1', aws_access_key_id='',\n",
        "\n",
        "     aws_secret_access_key='')"
      ]
    },
    {
      "cell_type": "code",
      "execution_count": null,
      "metadata": {
        "colab": {
          "base_uri": "https://localhost:8080/",
          "height": 384
        },
        "id": "nr0aiAoJe0rG",
        "outputId": "1d2e876e-5e4f-41f3-ed0c-16e6854d2648"
      },
      "outputs": [
        {
          "ename": "ModuleNotFoundError",
          "evalue": "No module named 'boto3'",
          "output_type": "error",
          "traceback": [
            "\u001b[0;31m---------------------------------------------------------------------------\u001b[0m",
            "\u001b[0;31mModuleNotFoundError\u001b[0m                       Traceback (most recent call last)",
            "\u001b[0;32m<ipython-input-1-424ceea9ad03>\u001b[0m in \u001b[0;36m<cell line: 3>\u001b[0;34m()\u001b[0m\n\u001b[1;32m      1\u001b[0m \u001b[0;32mimport\u001b[0m \u001b[0mrequests\u001b[0m\u001b[0;34m\u001b[0m\u001b[0;34m\u001b[0m\u001b[0m\n\u001b[1;32m      2\u001b[0m \u001b[0;34m\u001b[0m\u001b[0m\n\u001b[0;32m----> 3\u001b[0;31m \u001b[0;32mimport\u001b[0m \u001b[0mboto3\u001b[0m\u001b[0;34m\u001b[0m\u001b[0;34m\u001b[0m\u001b[0m\n\u001b[0m\u001b[1;32m      4\u001b[0m \u001b[0;32mimport\u001b[0m \u001b[0mrequests\u001b[0m\u001b[0;34m\u001b[0m\u001b[0;34m\u001b[0m\u001b[0m\n\u001b[1;32m      5\u001b[0m \u001b[0;32mimport\u001b[0m \u001b[0mjson\u001b[0m\u001b[0;34m\u001b[0m\u001b[0;34m\u001b[0m\u001b[0m\n",
            "\u001b[0;31mModuleNotFoundError\u001b[0m: No module named 'boto3'",
            "",
            "\u001b[0;31m---------------------------------------------------------------------------\u001b[0;32m\nNOTE: If your import is failing due to a missing package, you can\nmanually install dependencies using either !pip or !apt.\n\nTo view examples of installing some common dependencies, click the\n\"Open Examples\" button below.\n\u001b[0;31m---------------------------------------------------------------------------\u001b[0m\n"
          ]
        }
      ],
      "source": [
        "\n",
        "kinesis_client = boto3.client('kinesis', region_name='us-east-1', aws_access_key_id='',\n",
        "     aws_secret_access_key='')\n",
        "\n",
        "import requests\n",
        "import boto3\n",
        "import requests\n",
        "import json\n",
        "import time\n",
        "import pandas as pd\n",
        "\n",
        "# Initialize Kinesis client\n",
        "\n",
        "\n",
        "def send_to_kinesis(data):\n",
        "    # Send data to Kinesis stream\n",
        "    data_record = json.dumps(data) #Converts the data to a JSON string.\n",
        "    kinesis_client.put_record(StreamName='my-kinesis-stream', Data=data_record, PartitionKey='1')\n",
        "\n",
        "def invoke_api():\n",
        "    # API Gateway endpoint URL\n",
        "\n",
        "    api_endpoint = 'https://vf23h36ius.us-east-2.awsapprunner.com/fetch_data'\n",
        "    # Define the parameters\n",
        "    params = {\n",
        "        'year': '2007',\n",
        "    }\n",
        "    # Make a GET request to the API\n",
        "    response = requests.get(api_endpoint, params=params)\n",
        "\n",
        "    json_data = json.loads(json.loads(response.text))\n",
        "\n",
        "    print(len(json_data))\n",
        "\n",
        "    for i in range(0,len(json_data)):\n",
        "        send_to_kinesis(json_data[i])\n",
        "\n",
        "    #print(i)\n",
        "\n",
        "invoke_api()\n",
        "import requests\n",
        "import json\n",
        "\n",
        "api_endpoint = 'https://vf23h36ius.us-east-2.awsapprunner.com/fetch_data'\n",
        "    # Define the parameters\n",
        "params = {\n",
        "        'year': '2009',\n",
        "        'market': 'Armavir'\n",
        "    }\n",
        "\n",
        "response = requests.get(api_endpoint, params=params)\n",
        "json.loads(json.loads(response.text))[0]\n"
      ]
    },
    {
      "cell_type": "code",
      "execution_count": null,
      "metadata": {
        "id": "RXsDENP3_6Sg"
      },
      "outputs": [],
      "source": [
        "import requests\n",
        "import json\n",
        "\n",
        "api_endpoint = 'https://vf23h36ius.us-east-2.awsapprunner.com/fetch_data'\n",
        "    # Define the parameters\n",
        "params = {\n",
        "        'year': '2009',\n",
        "        'market': 'Armavir'\n",
        "    }\n",
        "\n",
        "response = requests.get(api_endpoint, params=params)"
      ]
    },
    {
      "cell_type": "code",
      "execution_count": null,
      "metadata": {
        "id": "rF2A3fFJATk7"
      },
      "outputs": [],
      "source": [
        "json.loads(json.loads(response.text))[0]"
      ]
    },
    {
      "cell_type": "code",
      "execution_count": null,
      "metadata": {
        "colab": {
          "base_uri": "https://localhost:8080/"
        },
        "id": "owkpPjbsBDdJ",
        "outputId": "50ce271d-d689-4f59-8161-132f09dd952f"
      },
      "outputs": [
        {
          "data": {
            "text/plain": [
              "12"
            ]
          },
          "execution_count": 28,
          "metadata": {},
          "output_type": "execute_result"
        }
      ],
      "source": [
        "len(json.loads(json.loads(response.text)))"
      ]
    },
    {
      "cell_type": "code",
      "execution_count": null,
      "metadata": {
        "id": "T6jt8ivbNNXJ"
      },
      "outputs": [],
      "source": []
    }
  ],
  "metadata": {
    "colab": {
      "provenance": []
    },
    "kernelspec": {
      "display_name": "Python 3",
      "name": "python3"
    },
    "language_info": {
      "name": "python"
    }
  },
  "nbformat": 4,
  "nbformat_minor": 0
}
